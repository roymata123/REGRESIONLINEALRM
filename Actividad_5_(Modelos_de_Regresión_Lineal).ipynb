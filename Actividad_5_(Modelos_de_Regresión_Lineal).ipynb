{
  "nbformat": 4,
  "nbformat_minor": 0,
  "metadata": {
    "colab": {
      "provenance": [],
      "include_colab_link": true
    },
    "kernelspec": {
      "name": "python3",
      "display_name": "Python 3"
    },
    "language_info": {
      "name": "python"
    }
  },
  "cells": [
    {
      "cell_type": "markdown",
      "metadata": {
        "id": "view-in-github",
        "colab_type": "text"
      },
      "source": [
        "<a href=\"https://colab.research.google.com/github/roymata123/REGRESIONLINEALRM/blob/main/Actividad_5_(Modelos_de_Regresi%C3%B3n_Lineal).ipynb\" target=\"_parent\"><img src=\"https://colab.research.google.com/assets/colab-badge.svg\" alt=\"Open In Colab\"/></a>"
      ]
    },
    {
      "cell_type": "code",
      "source": [
        "import pandas as pd\n",
        "import numpy as np\n",
        "import matplotlib.pyplot as plt\n",
        "import seaborn as sn"
      ],
      "metadata": {
        "id": "eB7uz1cJJm9S"
      },
      "execution_count": null,
      "outputs": []
    },
    {
      "cell_type": "code",
      "execution_count": null,
      "metadata": {
        "id": "nXMBM9QoJTLd"
      },
      "outputs": [],
      "source": [
        "#Cargar archivo csv desde equipo\n",
        "from google.colab import files\n",
        "files.upload()"
      ]
    },
    {
      "cell_type": "code",
      "source": [
        "df= pd.read_csv(\"cuentas_credicel.csv\", encoding= 'latin')\n",
        "pd.options.display.max_columns = None\n",
        "df.head(5)"
      ],
      "metadata": {
        "id": "xAEGHdrvJgBs"
      },
      "execution_count": null,
      "outputs": []
    },
    {
      "cell_type": "code",
      "source": [
        "df.info()"
      ],
      "metadata": {
        "id": "C97VusS5oBye"
      },
      "execution_count": null,
      "outputs": []
    },
    {
      "cell_type": "markdown",
      "source": [
        "**Convertir columna plazo**"
      ],
      "metadata": {
        "id": "IjGG7ByU7s2J"
      }
    },
    {
      "cell_type": "code",
      "source": [
        "#Eliminar un signo de una columna\n",
        "df['plazo']=df['plazo'].str.replace('S', '')"
      ],
      "metadata": {
        "id": "z8hOWVLs7mVJ"
      },
      "execution_count": null,
      "outputs": []
    },
    {
      "cell_type": "code",
      "source": [
        "#Conversión de tipo de dato de columna de tipo Object a int\n",
        "df['plazo']= df['plazo'].astype(int)"
      ],
      "metadata": {
        "id": "vJPdQECr7qqT"
      },
      "execution_count": null,
      "outputs": []
    },
    {
      "cell_type": "markdown",
      "source": [
        "**Convertir riesgo**"
      ],
      "metadata": {
        "id": "syuFNNNC9XwV"
      }
    },
    {
      "cell_type": "code",
      "source": [
        "#Sustituyo los strings Atraso, Cancelado y Fraude por la constante \"0\"\n",
        "df['riesgo']=df['riesgo'].str.replace('Atraso', '0')\n",
        "df['riesgo']=df['riesgo'].str.replace('Cancelado', '0')\n",
        "df['riesgo']=df['riesgo'].str.replace('Fraude', '0')"
      ],
      "metadata": {
        "id": "m5RY2Kv-73Tu"
      },
      "execution_count": null,
      "outputs": []
    },
    {
      "cell_type": "code",
      "source": [
        "riesgo_categorias = df.groupby(['riesgo'])['riesgo'].count()\n",
        "riesgo_categorias"
      ],
      "metadata": {
        "id": "UkKRr6KR77Yh",
        "colab": {
          "base_uri": "https://localhost:8080/"
        },
        "outputId": "a3bdc687-321b-4c7a-fee1-99c480ae06ba"
      },
      "execution_count": null,
      "outputs": [
        {
          "output_type": "execute_result",
          "data": {
            "text/plain": [
              "riesgo\n",
              "-0.05    3\n",
              "-0.1     6\n",
              "-0.15    5\n",
              "-0.2     3\n",
              "-0.25    7\n",
              "        ..\n",
              "9.8      3\n",
              "9.85     4\n",
              "9.9      1\n",
              "9.95     5\n",
              "91       1\n",
              "Name: riesgo, Length: 1524, dtype: int64"
            ]
          },
          "metadata": {},
          "execution_count": 9
        }
      ]
    },
    {
      "cell_type": "code",
      "source": [
        "df[\"riesgo\"]= df[\"riesgo\"].fillna(0)"
      ],
      "metadata": {
        "id": "54zhj0-e7-Ed"
      },
      "execution_count": null,
      "outputs": []
    },
    {
      "cell_type": "code",
      "source": [
        "df[\"porc_enganche\"]=df[\"porc_enganche\"].fillna(method=\"ffill\")"
      ],
      "metadata": {
        "id": "vzXPOzIN_LuA"
      },
      "execution_count": null,
      "outputs": []
    },
    {
      "cell_type": "code",
      "source": [
        "df.isnull().sum()"
      ],
      "metadata": {
        "id": "I6wFHhbcaydv"
      },
      "execution_count": null,
      "outputs": []
    },
    {
      "cell_type": "code",
      "source": [
        "#Declaramos las variables dependientes e independientes para la regresión lineal\n",
        "Vars_Indep= df[['score_buro']]\n",
        "Var_Dep= df['enganche']\n",
        "#Se define model como la función de regresión lineal\n",
        "from sklearn.linear_model import LinearRegression\n",
        "model= LinearRegression()\n",
        "#Ajustamos el modelo con las variables antes declaradas\n",
        "model.fit(X=Vars_Indep, y=Var_Dep)\n",
        "#Verificamos los coeficientes obtenidos para el modelo ajustado\n",
        "model.__dict__"
      ],
      "metadata": {
        "id": "NGRULsraKt8M",
        "colab": {
          "base_uri": "https://localhost:8080/"
        },
        "outputId": "ab39a321-714c-4e24-fb4d-63bc8ea4f1fe"
      },
      "execution_count": null,
      "outputs": [
        {
          "output_type": "execute_result",
          "data": {
            "text/plain": [
              "{'fit_intercept': True,\n",
              " 'copy_X': True,\n",
              " 'n_jobs': None,\n",
              " 'positive': False,\n",
              " 'feature_names_in_': array(['score_buro'], dtype=object),\n",
              " 'n_features_in_': 1,\n",
              " 'coef_': array([8.30362837]),\n",
              " 'rank_': 1,\n",
              " 'singular_': array([713.01781912]),\n",
              " 'intercept_': 928.5596445591957}"
            ]
          },
          "metadata": {},
          "execution_count": 13
        }
      ]
    },
    {
      "cell_type": "markdown",
      "source": [
        "\n",
        "**1er Modelo Matemático: y=8.30362837x+928.5596445591957**"
      ],
      "metadata": {
        "id": "9D_scvMQOQu4"
      }
    },
    {
      "cell_type": "code",
      "source": [
        "y_pred= model.predict(X=df[[\"score_buro\"]])\n",
        "y_pred"
      ],
      "metadata": {
        "id": "vBGQx2gLgI3-",
        "colab": {
          "base_uri": "https://localhost:8080/"
        },
        "outputId": "8717490c-71ad-4b4a-c2e6-1a562c544ca1"
      },
      "execution_count": null,
      "outputs": [
        {
          "output_type": "execute_result",
          "data": {
            "text/plain": [
              "array([928.55964456, 928.55964456, 928.55964456, ..., 928.55964456,\n",
              "       928.55964456, 928.55964456])"
            ]
          },
          "metadata": {},
          "execution_count": 14
        }
      ]
    },
    {
      "cell_type": "code",
      "source": [
        "coef_Deter=model.score(X=Vars_Indep, y=Var_Dep)\n",
        "coef_Deter"
      ],
      "metadata": {
        "colab": {
          "base_uri": "https://localhost:8080/"
        },
        "id": "3Vfvyqz-pFTL",
        "outputId": "5d6a6013-7027-4bf7-a808-3627a3ebd1ed"
      },
      "execution_count": null,
      "outputs": [
        {
          "output_type": "execute_result",
          "data": {
            "text/plain": [
              "0.006785706027080618"
            ]
          },
          "metadata": {},
          "execution_count": 15
        }
      ]
    },
    {
      "cell_type": "code",
      "source": [
        "coef_Correl=np.sqrt(coef_Deter)\n",
        "coef_Correl"
      ],
      "metadata": {
        "colab": {
          "base_uri": "https://localhost:8080/"
        },
        "id": "CdLJTmkGnnus",
        "outputId": "1da64b04-f38d-4814-d8b0-934d547f81b5"
      },
      "execution_count": null,
      "outputs": [
        {
          "output_type": "execute_result",
          "data": {
            "text/plain": [
              "0.08237539697677103"
            ]
          },
          "metadata": {},
          "execution_count": 16
        }
      ]
    },
    {
      "cell_type": "code",
      "source": [
        "#Declaramos las variables dependientes e independientes para la regresión lineal\n",
        "Vars_Indep= df[['score_buro']]\n",
        "Var_Dep= df['precio']\n",
        "#Se define model como la función de regresión lineal\n",
        "from sklearn.linear_model import LinearRegression\n",
        "model= LinearRegression()\n",
        "#Ajustamos el modelo con las variables antes declaradas\n",
        "model.fit(X=Vars_Indep, y=Var_Dep)\n",
        "#Verificamos los coeficientes obtenidos para el modelo ajustado\n",
        "model.__dict__"
      ],
      "metadata": {
        "id": "VgL3UxrXnCJy"
      },
      "execution_count": null,
      "outputs": []
    },
    {
      "cell_type": "markdown",
      "source": [
        "**2do Modelo Matemático: y= -7.11615993x +3995.217831233963**"
      ],
      "metadata": {
        "id": "poaUWPQgnJO3"
      }
    },
    {
      "cell_type": "code",
      "source": [
        "y_pred= model.predict(X=df[[\"score_buro\"]])\n",
        "y_pred"
      ],
      "metadata": {
        "id": "jEeG-YI4naw-",
        "colab": {
          "base_uri": "https://localhost:8080/"
        },
        "outputId": "2c7f8559-98bf-4820-dec3-dd5eb911c4ff"
      },
      "execution_count": null,
      "outputs": [
        {
          "output_type": "execute_result",
          "data": {
            "text/plain": [
              "array([3995.21783123, 3995.21783123, 3995.21783123, ..., 3995.21783123,\n",
              "       3995.21783123, 3995.21783123])"
            ]
          },
          "metadata": {},
          "execution_count": 18
        }
      ]
    },
    {
      "cell_type": "code",
      "source": [
        "coef_Deter=model.score(X=Vars_Indep, y=Var_Dep)\n",
        "coef_Deter"
      ],
      "metadata": {
        "colab": {
          "base_uri": "https://localhost:8080/"
        },
        "id": "VDqmKwFjnoix",
        "outputId": "851a0c86-de22-4900-ff63-62fe04f13711"
      },
      "execution_count": null,
      "outputs": [
        {
          "output_type": "execute_result",
          "data": {
            "text/plain": [
              "0.0006109088972575671"
            ]
          },
          "metadata": {},
          "execution_count": 19
        }
      ]
    },
    {
      "cell_type": "code",
      "source": [
        "coef_Correl=np.sqrt(coef_Deter)\n",
        "coef_Correl"
      ],
      "metadata": {
        "colab": {
          "base_uri": "https://localhost:8080/"
        },
        "id": "8ZVgl0VZnrxs",
        "outputId": "312538d2-8c31-407c-8b80-4c07d4e8591c"
      },
      "execution_count": null,
      "outputs": [
        {
          "output_type": "execute_result",
          "data": {
            "text/plain": [
              "0.02471657130869019"
            ]
          },
          "metadata": {},
          "execution_count": 20
        }
      ]
    },
    {
      "cell_type": "code",
      "source": [
        "#Declaramos las variables dependientes e independientes para la regresión lineal\n",
        "Vars_Indep= df[['score_buro']]\n",
        "Var_Dep= df['costo_total']\n",
        "#Se define model como la función de regresión lineal\n",
        "from sklearn.linear_model import LinearRegression\n",
        "model= LinearRegression()\n",
        "#Ajustamos el modelo con las variables antes declaradas\n",
        "model.fit(X=Vars_Indep, y=Var_Dep)\n",
        "#Verificamos los coeficientes obtenidos para el modelo ajustado\n",
        "model.__dict__"
      ],
      "metadata": {
        "id": "L0t0Azbkn3AG"
      },
      "execution_count": null,
      "outputs": []
    },
    {
      "cell_type": "markdown",
      "source": [
        "**3er Modelo Matemático: y=-18.95458459x+5694.847880533092**"
      ],
      "metadata": {
        "id": "OZOUTM4Sn6av"
      }
    },
    {
      "cell_type": "code",
      "source": [
        "y_pred= model.predict(X=df[[\"score_buro\"]])\n",
        "y_pred"
      ],
      "metadata": {
        "id": "XfgHxvu2oLXF",
        "colab": {
          "base_uri": "https://localhost:8080/"
        },
        "outputId": "10443db7-52f0-4274-9f46-a360051e684e"
      },
      "execution_count": null,
      "outputs": [
        {
          "output_type": "execute_result",
          "data": {
            "text/plain": [
              "array([5694.84788053, 5694.84788053, 5694.84788053, ..., 5694.84788053,\n",
              "       5694.84788053, 5694.84788053])"
            ]
          },
          "metadata": {},
          "execution_count": 22
        }
      ]
    },
    {
      "cell_type": "code",
      "source": [
        "coef_Deter=model.score(X=Vars_Indep, y=Var_Dep)\n",
        "coef_Deter"
      ],
      "metadata": {
        "colab": {
          "base_uri": "https://localhost:8080/"
        },
        "id": "cTiv2ht4oOj8",
        "outputId": "dca4009e-6ca3-4764-840c-57f5b3958b74"
      },
      "execution_count": null,
      "outputs": [
        {
          "output_type": "execute_result",
          "data": {
            "text/plain": [
              "0.001411319050099502"
            ]
          },
          "metadata": {},
          "execution_count": 23
        }
      ]
    },
    {
      "cell_type": "code",
      "source": [
        "coef_Correl=np.sqrt(coef_Deter)\n",
        "coef_Correl"
      ],
      "metadata": {
        "colab": {
          "base_uri": "https://localhost:8080/"
        },
        "id": "VTimQMM5oS2M",
        "outputId": "c1124ed0-a17e-4e4a-a97e-1757d1f89ad0"
      },
      "execution_count": null,
      "outputs": [
        {
          "output_type": "execute_result",
          "data": {
            "text/plain": [
              "0.03756752653688425"
            ]
          },
          "metadata": {},
          "execution_count": 24
        }
      ]
    },
    {
      "cell_type": "code",
      "source": [
        "#Declaramos las variables dependientes e independientes para la regresión lineal\n",
        "Vars_Indep= df[['score_buro']]\n",
        "Var_Dep= df['pagos_realizados']\n",
        "#Se define model como la función de regresión lineal\n",
        "from sklearn.linear_model import LinearRegression\n",
        "model= LinearRegression()\n",
        "#Ajustamos el modelo con las variables antes declaradas\n",
        "model.fit(X=Vars_Indep, y=Var_Dep)\n",
        "#Verificamos los coeficientes obtenidos para el modelo ajustado\n",
        "model.__dict__"
      ],
      "metadata": {
        "id": "6Z3iMF1nocrg"
      },
      "execution_count": null,
      "outputs": []
    },
    {
      "cell_type": "markdown",
      "source": [
        "**4to Modelo Matemático: y=-0.03282908x +10.172388024218485**"
      ],
      "metadata": {
        "id": "QH0kJucFooQ5"
      }
    },
    {
      "cell_type": "code",
      "source": [
        "y_pred= model.predict(X=df[[\"score_buro\"]])\n",
        "y_pred"
      ],
      "metadata": {
        "id": "euft4Pnvojld",
        "colab": {
          "base_uri": "https://localhost:8080/"
        },
        "outputId": "e782f4a9-8b3a-45ac-f0fd-2062b5baacc2"
      },
      "execution_count": null,
      "outputs": [
        {
          "output_type": "execute_result",
          "data": {
            "text/plain": [
              "array([10.17238802, 10.17238802, 10.17238802, ..., 10.17238802,\n",
              "       10.17238802, 10.17238802])"
            ]
          },
          "metadata": {},
          "execution_count": 26
        }
      ]
    },
    {
      "cell_type": "code",
      "source": [
        "coef_Deter=model.score(X=Vars_Indep, y=Var_Dep)\n",
        "coef_Deter"
      ],
      "metadata": {
        "colab": {
          "base_uri": "https://localhost:8080/"
        },
        "id": "WDDTRgdyokPK",
        "outputId": "2c65155b-0fcd-422e-ae92-ce14c1d27257"
      },
      "execution_count": null,
      "outputs": [
        {
          "output_type": "execute_result",
          "data": {
            "text/plain": [
              "0.0002557069223527719"
            ]
          },
          "metadata": {},
          "execution_count": 27
        }
      ]
    },
    {
      "cell_type": "code",
      "source": [
        "coef_Correl=np.sqrt(coef_Deter)\n",
        "coef_Correl"
      ],
      "metadata": {
        "colab": {
          "base_uri": "https://localhost:8080/"
        },
        "id": "ZJnlD0y-olsz",
        "outputId": "b957c7ff-e3f9-4e1c-af30-a921e01e9acc"
      },
      "execution_count": null,
      "outputs": [
        {
          "output_type": "execute_result",
          "data": {
            "text/plain": [
              "0.015990838700730238"
            ]
          },
          "metadata": {},
          "execution_count": 28
        }
      ]
    },
    {
      "cell_type": "code",
      "source": [
        "#Declaramos las variables dependientes e independientes para la regresión lineal\n",
        "Vars_Indep= df[['score_buro']]\n",
        "Var_Dep= df['riesgo']\n",
        "#Se define model como la función de regresión lineal\n",
        "from sklearn.linear_model import LinearRegression\n",
        "model= LinearRegression()\n",
        "#Ajustamos el modelo con las variables antes declaradas\n",
        "model.fit(X=Vars_Indep, y=Var_Dep)\n",
        "#Verificamos los coeficientes obtenidos para el modelo ajustado\n",
        "model.__dict__"
      ],
      "metadata": {
        "id": "4QFzh4nOo5NZ"
      },
      "execution_count": null,
      "outputs": []
    },
    {
      "cell_type": "markdown",
      "source": [
        "**5to Modelo Matemático: y=0.02461996x+2.1603808207395727**"
      ],
      "metadata": {
        "id": "Zn5kCoEntEOt"
      }
    },
    {
      "cell_type": "code",
      "source": [
        "y_pred= model.predict(X=df[[\"score_buro\"]])\n",
        "y_pred"
      ],
      "metadata": {
        "id": "ifymacNAsreT",
        "colab": {
          "base_uri": "https://localhost:8080/"
        },
        "outputId": "0a47a1b5-df3a-4861-ac44-7f1b0093a724"
      },
      "execution_count": null,
      "outputs": [
        {
          "output_type": "execute_result",
          "data": {
            "text/plain": [
              "array([2.16038082, 2.16038082, 2.16038082, ..., 2.16038082, 2.16038082,\n",
              "       2.16038082])"
            ]
          },
          "metadata": {},
          "execution_count": 30
        }
      ]
    },
    {
      "cell_type": "code",
      "source": [
        "coef_Deter=model.score(X=Vars_Indep, y=Var_Dep)\n",
        "coef_Deter"
      ],
      "metadata": {
        "id": "3GaOcfA8sthd",
        "colab": {
          "base_uri": "https://localhost:8080/"
        },
        "outputId": "ecca23e9-09dc-4a6e-c6a4-2801b7634d5e"
      },
      "execution_count": null,
      "outputs": [
        {
          "output_type": "execute_result",
          "data": {
            "text/plain": [
              "7.007499711020326e-05"
            ]
          },
          "metadata": {},
          "execution_count": 31
        }
      ]
    },
    {
      "cell_type": "code",
      "source": [
        "coef_Correl=np.sqrt(coef_Deter)\n",
        "coef_Correl"
      ],
      "metadata": {
        "id": "wcypiX3lsu5k",
        "colab": {
          "base_uri": "https://localhost:8080/"
        },
        "outputId": "e0b29ed5-9c61-4233-b6d8-0a8f9fe5d4f3"
      },
      "execution_count": null,
      "outputs": [
        {
          "output_type": "execute_result",
          "data": {
            "text/plain": [
              "0.00837108100009809"
            ]
          },
          "metadata": {},
          "execution_count": 32
        }
      ]
    },
    {
      "cell_type": "code",
      "source": [
        "#Declaramos las variables dependientes e independientes para la regresión lineal\n",
        "Vars_Indep= df[['score_buro']]\n",
        "Var_Dep= df['plazo']\n",
        "#Se define model como la función de regresión lineal\n",
        "from sklearn.linear_model import LinearRegression\n",
        "model= LinearRegression()\n",
        "#Ajustamos el modelo con las variables antes declaradas\n",
        "model.fit(X=Vars_Indep, y=Var_Dep)\n",
        "#Verificamos los coeficientes obtenidos para el modelo ajustado\n",
        "model.__dict__"
      ],
      "metadata": {
        "id": "-5Ma9s6BsxjZ"
      },
      "execution_count": null,
      "outputs": []
    },
    {
      "cell_type": "markdown",
      "source": [
        "**6to Modelo Matemático: y=0.06482148x+25.926221898296898**"
      ],
      "metadata": {
        "id": "zlJcg62ds5Hm"
      }
    },
    {
      "cell_type": "code",
      "source": [
        "y_pred= model.predict(X=df[[\"score_buro\"]])\n",
        "y_pred"
      ],
      "metadata": {
        "id": "xGEalM6Fs1LO",
        "colab": {
          "base_uri": "https://localhost:8080/"
        },
        "outputId": "0189c349-24bd-4c76-920b-267d3842347e"
      },
      "execution_count": null,
      "outputs": [
        {
          "output_type": "execute_result",
          "data": {
            "text/plain": [
              "array([25.9262219, 25.9262219, 25.9262219, ..., 25.9262219, 25.9262219,\n",
              "       25.9262219])"
            ]
          },
          "metadata": {},
          "execution_count": 34
        }
      ]
    },
    {
      "cell_type": "code",
      "source": [
        "coef_Deter=model.score(X=Vars_Indep, y=Var_Dep)\n",
        "coef_Deter"
      ],
      "metadata": {
        "id": "0TYxgGYws2d1",
        "colab": {
          "base_uri": "https://localhost:8080/"
        },
        "outputId": "e0564e93-eaed-4d8e-d27e-a10c640dc5fc"
      },
      "execution_count": null,
      "outputs": [
        {
          "output_type": "execute_result",
          "data": {
            "text/plain": [
              "0.0009418250456870725"
            ]
          },
          "metadata": {},
          "execution_count": 35
        }
      ]
    },
    {
      "cell_type": "code",
      "source": [
        "coef_Correl=np.sqrt(coef_Deter)\n",
        "coef_Correl"
      ],
      "metadata": {
        "id": "wOe7cz6ps322",
        "colab": {
          "base_uri": "https://localhost:8080/"
        },
        "outputId": "e8d32fc6-119e-4a07-ba43-a17b5998f63d"
      },
      "execution_count": null,
      "outputs": [
        {
          "output_type": "execute_result",
          "data": {
            "text/plain": [
              "0.030689168214323968"
            ]
          },
          "metadata": {},
          "execution_count": 36
        }
      ]
    },
    {
      "cell_type": "code",
      "source": [
        "#Declaramos las variables dependientes e independientes para la regresión lineal\n",
        "Vars_Indep= df[['score_buro']]\n",
        "Var_Dep= df['monto_financiado']\n",
        "#Se define model como la función de regresión lineal\n",
        "from sklearn.linear_model import LinearRegression\n",
        "model= LinearRegression()\n",
        "#Ajustamos el modelo con las variables antes declaradas\n",
        "model.fit(X=Vars_Indep, y=Var_Dep)\n",
        "#Verificamos los coeficientes obtenidos para el modelo ajustado\n",
        "model.__dict__"
      ],
      "metadata": {
        "id": "A9WXtPritH8T",
        "colab": {
          "base_uri": "https://localhost:8080/"
        },
        "outputId": "aa2ffc89-75a6-456b-e80c-032af5df8683"
      },
      "execution_count": null,
      "outputs": [
        {
          "output_type": "execute_result",
          "data": {
            "text/plain": [
              "{'fit_intercept': True,\n",
              " 'copy_X': True,\n",
              " 'n_jobs': None,\n",
              " 'positive': False,\n",
              " 'feature_names_in_': array(['score_buro'], dtype=object),\n",
              " 'n_features_in_': 1,\n",
              " 'coef_': array([-15.3639206]),\n",
              " 'rank_': 1,\n",
              " 'singular_': array([713.01781912]),\n",
              " 'intercept_': 3072.209876915044}"
            ]
          },
          "metadata": {},
          "execution_count": 37
        }
      ]
    },
    {
      "cell_type": "markdown",
      "source": [
        "**7mo Modelo Matemático: y=-15.3639206x +3072.209876915044**"
      ],
      "metadata": {
        "id": "yY2qIWwftlV_"
      }
    },
    {
      "cell_type": "code",
      "source": [
        "y_pred= model.predict(X=df[[\"score_buro\"]])\n",
        "y_pred"
      ],
      "metadata": {
        "id": "I_NJFPWxtf9D",
        "colab": {
          "base_uri": "https://localhost:8080/"
        },
        "outputId": "21c9d36b-f29f-4d4b-c408-9eaf716e6ac6"
      },
      "execution_count": null,
      "outputs": [
        {
          "output_type": "execute_result",
          "data": {
            "text/plain": [
              "array([3072.20987692, 3072.20987692, 3072.20987692, ..., 3072.20987692,\n",
              "       3072.20987692, 3072.20987692])"
            ]
          },
          "metadata": {},
          "execution_count": 38
        }
      ]
    },
    {
      "cell_type": "code",
      "source": [
        "coef_Deter=model.score(X=Vars_Indep, y=Var_Dep)\n",
        "coef_Deter"
      ],
      "metadata": {
        "colab": {
          "base_uri": "https://localhost:8080/"
        },
        "id": "ENCwmCRgthOa",
        "outputId": "9ec1bad0-a38c-4eea-edaa-91734ea59f17"
      },
      "execution_count": null,
      "outputs": [
        {
          "output_type": "execute_result",
          "data": {
            "text/plain": [
              "0.00438865960173207"
            ]
          },
          "metadata": {},
          "execution_count": 39
        }
      ]
    },
    {
      "cell_type": "code",
      "source": [
        "coef_Correl=np.sqrt(coef_Deter)\n",
        "coef_Correl"
      ],
      "metadata": {
        "colab": {
          "base_uri": "https://localhost:8080/"
        },
        "id": "-qnTLoAPtin8",
        "outputId": "a02cbeb3-d286-475b-d917-28f446149102"
      },
      "execution_count": null,
      "outputs": [
        {
          "output_type": "execute_result",
          "data": {
            "text/plain": [
              "0.06624695918857008"
            ]
          },
          "metadata": {},
          "execution_count": 40
        }
      ]
    },
    {
      "cell_type": "code",
      "source": [
        "#Declaramos las variables dependientes e independientes para la regresión lineal\n",
        "Vars_Indep= df[['score_buro']]\n",
        "Var_Dep= df['porc_enganche']\n",
        "#Se define model como la función de regresión lineal\n",
        "from sklearn.linear_model import LinearRegression\n",
        "model= LinearRegression()\n",
        "#Ajustamos el modelo con las variables antes declaradas\n",
        "model.fit(X=Vars_Indep, y=Var_Dep)\n",
        "#Verificamos los coeficientes obtenidos para el modelo ajustado\n",
        "model.__dict__"
      ],
      "metadata": {
        "id": "30o9TK0Et5Ag"
      },
      "execution_count": null,
      "outputs": []
    },
    {
      "cell_type": "markdown",
      "source": [
        "**8vo Modelo Matemático: y=-0.07220764x + 0.8455734321126249**"
      ],
      "metadata": {
        "id": "4WNhNE4K_i9D"
      }
    },
    {
      "cell_type": "code",
      "source": [
        "y_pred= model.predict(X=df[[\"score_buro\"]])\n",
        "y_pred"
      ],
      "metadata": {
        "id": "KkQN4Nue_5Ot",
        "colab": {
          "base_uri": "https://localhost:8080/",
          "height": 351
        },
        "outputId": "70dd6214-8d77-4b9e-8c95-e2cc277027ea"
      },
      "execution_count": null,
      "outputs": [
        {
          "output_type": "error",
          "ename": "AttributeError",
          "evalue": "ignored",
          "traceback": [
            "\u001b[0;31m---------------------------------------------------------------------------\u001b[0m",
            "\u001b[0;31mAttributeError\u001b[0m                            Traceback (most recent call last)",
            "\u001b[0;32m<ipython-input-42-e9cc52fb1ad3>\u001b[0m in \u001b[0;36m<cell line: 1>\u001b[0;34m()\u001b[0m\n\u001b[0;32m----> 1\u001b[0;31m \u001b[0my_pred\u001b[0m\u001b[0;34m=\u001b[0m \u001b[0mmodel\u001b[0m\u001b[0;34m.\u001b[0m\u001b[0mpredict\u001b[0m\u001b[0;34m(\u001b[0m\u001b[0mX\u001b[0m\u001b[0;34m=\u001b[0m\u001b[0mdf\u001b[0m\u001b[0;34m[\u001b[0m\u001b[0;34m[\u001b[0m\u001b[0;34m\"score_buro\"\u001b[0m\u001b[0;34m]\u001b[0m\u001b[0;34m]\u001b[0m\u001b[0;34m)\u001b[0m\u001b[0;34m\u001b[0m\u001b[0;34m\u001b[0m\u001b[0m\n\u001b[0m\u001b[1;32m      2\u001b[0m \u001b[0my_pred\u001b[0m\u001b[0;34m\u001b[0m\u001b[0;34m\u001b[0m\u001b[0m\n",
            "\u001b[0;32m/usr/local/lib/python3.10/dist-packages/sklearn/linear_model/_base.py\u001b[0m in \u001b[0;36mpredict\u001b[0;34m(self, X)\u001b[0m\n\u001b[1;32m    352\u001b[0m             \u001b[0mReturns\u001b[0m \u001b[0mpredicted\u001b[0m \u001b[0mvalues\u001b[0m\u001b[0;34m.\u001b[0m\u001b[0;34m\u001b[0m\u001b[0;34m\u001b[0m\u001b[0m\n\u001b[1;32m    353\u001b[0m         \"\"\"\n\u001b[0;32m--> 354\u001b[0;31m         \u001b[0;32mreturn\u001b[0m \u001b[0mself\u001b[0m\u001b[0;34m.\u001b[0m\u001b[0m_decision_function\u001b[0m\u001b[0;34m(\u001b[0m\u001b[0mX\u001b[0m\u001b[0;34m)\u001b[0m\u001b[0;34m\u001b[0m\u001b[0;34m\u001b[0m\u001b[0m\n\u001b[0m\u001b[1;32m    355\u001b[0m \u001b[0;34m\u001b[0m\u001b[0m\n\u001b[1;32m    356\u001b[0m     \u001b[0;32mdef\u001b[0m \u001b[0m_set_intercept\u001b[0m\u001b[0;34m(\u001b[0m\u001b[0mself\u001b[0m\u001b[0;34m,\u001b[0m \u001b[0mX_offset\u001b[0m\u001b[0;34m,\u001b[0m \u001b[0my_offset\u001b[0m\u001b[0;34m,\u001b[0m \u001b[0mX_scale\u001b[0m\u001b[0;34m)\u001b[0m\u001b[0;34m:\u001b[0m\u001b[0;34m\u001b[0m\u001b[0;34m\u001b[0m\u001b[0m\n",
            "\u001b[0;32m/usr/local/lib/python3.10/dist-packages/sklearn/linear_model/_base.py\u001b[0m in \u001b[0;36m_decision_function\u001b[0;34m(self, X)\u001b[0m\n\u001b[1;32m    336\u001b[0m \u001b[0;34m\u001b[0m\u001b[0m\n\u001b[1;32m    337\u001b[0m         \u001b[0mX\u001b[0m \u001b[0;34m=\u001b[0m \u001b[0mself\u001b[0m\u001b[0;34m.\u001b[0m\u001b[0m_validate_data\u001b[0m\u001b[0;34m(\u001b[0m\u001b[0mX\u001b[0m\u001b[0;34m,\u001b[0m \u001b[0maccept_sparse\u001b[0m\u001b[0;34m=\u001b[0m\u001b[0;34m[\u001b[0m\u001b[0;34m\"csr\"\u001b[0m\u001b[0;34m,\u001b[0m \u001b[0;34m\"csc\"\u001b[0m\u001b[0;34m,\u001b[0m \u001b[0;34m\"coo\"\u001b[0m\u001b[0;34m]\u001b[0m\u001b[0;34m,\u001b[0m \u001b[0mreset\u001b[0m\u001b[0;34m=\u001b[0m\u001b[0;32mFalse\u001b[0m\u001b[0;34m)\u001b[0m\u001b[0;34m\u001b[0m\u001b[0;34m\u001b[0m\u001b[0m\n\u001b[0;32m--> 338\u001b[0;31m         \u001b[0;32mreturn\u001b[0m \u001b[0msafe_sparse_dot\u001b[0m\u001b[0;34m(\u001b[0m\u001b[0mX\u001b[0m\u001b[0;34m,\u001b[0m \u001b[0mself\u001b[0m\u001b[0;34m.\u001b[0m\u001b[0mcoef_\u001b[0m\u001b[0;34m.\u001b[0m\u001b[0mT\u001b[0m\u001b[0;34m,\u001b[0m \u001b[0mdense_output\u001b[0m\u001b[0;34m=\u001b[0m\u001b[0;32mTrue\u001b[0m\u001b[0;34m)\u001b[0m \u001b[0;34m+\u001b[0m \u001b[0mself\u001b[0m\u001b[0;34m.\u001b[0m\u001b[0mintercept_\u001b[0m\u001b[0;34m\u001b[0m\u001b[0;34m\u001b[0m\u001b[0m\n\u001b[0m\u001b[1;32m    339\u001b[0m \u001b[0;34m\u001b[0m\u001b[0m\n\u001b[1;32m    340\u001b[0m     \u001b[0;32mdef\u001b[0m \u001b[0mpredict\u001b[0m\u001b[0;34m(\u001b[0m\u001b[0mself\u001b[0m\u001b[0;34m,\u001b[0m \u001b[0mX\u001b[0m\u001b[0;34m)\u001b[0m\u001b[0;34m:\u001b[0m\u001b[0;34m\u001b[0m\u001b[0;34m\u001b[0m\u001b[0m\n",
            "\u001b[0;31mAttributeError\u001b[0m: 'LinearRegression' object has no attribute 'coef_'"
          ]
        }
      ]
    },
    {
      "cell_type": "code",
      "source": [
        "coef_Deter=model.score(X=Vars_Indep, y=Var_Dep)\n",
        "coef_Deter"
      ],
      "metadata": {
        "id": "mmwNBkN5_8LU"
      },
      "execution_count": null,
      "outputs": []
    },
    {
      "cell_type": "code",
      "source": [
        "coef_Correl=np.sqrt(coef_Deter)\n",
        "coef_Correl"
      ],
      "metadata": {
        "colab": {
          "base_uri": "https://localhost:8080/"
        },
        "id": "eeviAixn_9nr",
        "outputId": "112c3ef7-b99d-4d04-bfde-f1b01b0cbc65"
      },
      "execution_count": null,
      "outputs": [
        {
          "output_type": "execute_result",
          "data": {
            "text/plain": [
              "0.0541507160356438"
            ]
          },
          "metadata": {},
          "execution_count": 54
        }
      ]
    }
  ]
}